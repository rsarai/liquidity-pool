{
 "cells": [
  {
   "cell_type": "code",
   "execution_count": 1,
   "id": "ffdf62aa-eddf-45e0-b35a-586037594275",
   "metadata": {},
   "outputs": [
    {
     "name": "stdout",
     "output_type": "stream",
     "text": [
      "Collecting pytest\n",
      "  Downloading pytest-7.1.2-py3-none-any.whl (297 kB)\n",
      "\u001b[2K     \u001b[90m━━━━━━━━━━━━━━━━━━━━━━━━━━━━━━━━━━━━━━━\u001b[0m \u001b[32m297.0/297.0 kB\u001b[0m \u001b[31m2.6 MB/s\u001b[0m eta \u001b[36m0:00:00\u001b[0m00:01\u001b[0m00:01\u001b[0m\n",
      "\u001b[?25hCollecting pytest-cov\n",
      "  Downloading pytest_cov-3.0.0-py3-none-any.whl (20 kB)\n",
      "Collecting ipdb\n",
      "  Downloading ipdb-0.13.9.tar.gz (16 kB)\n",
      "  Preparing metadata (setup.py) ... \u001b[?25ldone\n",
      "\u001b[?25hRequirement already satisfied: python-dateutil in /opt/conda/lib/python3.10/site-packages (from -r requirements.txt (line 4)) (2.8.2)\n",
      "Collecting freezegun\n",
      "  Downloading freezegun-1.2.2-py3-none-any.whl (17 kB)\n",
      "Collecting py>=1.8.2\n",
      "  Downloading py-1.11.0-py2.py3-none-any.whl (98 kB)\n",
      "\u001b[2K     \u001b[90m━━━━━━━━━━━━━━━━━━━━━━━━━━━━━━━━━━━━━━━━\u001b[0m \u001b[32m98.7/98.7 kB\u001b[0m \u001b[31m2.5 MB/s\u001b[0m eta \u001b[36m0:00:00\u001b[0mta \u001b[36m0:00:01\u001b[0m\n",
      "\u001b[?25hRequirement already satisfied: packaging in /opt/conda/lib/python3.10/site-packages (from pytest->-r requirements.txt (line 1)) (21.3)\n",
      "Collecting tomli>=1.0.0\n",
      "  Downloading tomli-2.0.1-py3-none-any.whl (12 kB)\n",
      "Collecting pluggy<2.0,>=0.12\n",
      "  Downloading pluggy-1.0.0-py2.py3-none-any.whl (13 kB)\n",
      "Collecting iniconfig\n",
      "  Downloading iniconfig-1.1.1-py2.py3-none-any.whl (5.0 kB)\n",
      "Requirement already satisfied: attrs>=19.2.0 in /opt/conda/lib/python3.10/site-packages (from pytest->-r requirements.txt (line 1)) (22.1.0)\n",
      "Collecting coverage[toml]>=5.2.1\n",
      "  Downloading coverage-6.4.4-cp310-cp310-manylinux_2_5_x86_64.manylinux1_x86_64.manylinux_2_17_x86_64.manylinux2014_x86_64.whl (212 kB)\n",
      "\u001b[2K     \u001b[90m━━━━━━━━━━━━━━━━━━━━━━━━━━━━━━━━━━━━━━━\u001b[0m \u001b[32m212.5/212.5 kB\u001b[0m \u001b[31m5.2 MB/s\u001b[0m eta \u001b[36m0:00:00\u001b[0ma \u001b[36m0:00:01\u001b[0m\n",
      "\u001b[?25hRequirement already satisfied: setuptools in /opt/conda/lib/python3.10/site-packages (from ipdb->-r requirements.txt (line 3)) (65.1.0)\n",
      "Requirement already satisfied: ipython>=7.17.0 in /opt/conda/lib/python3.10/site-packages (from ipdb->-r requirements.txt (line 3)) (8.4.0)\n",
      "Collecting toml>=0.10.2\n",
      "  Downloading toml-0.10.2-py2.py3-none-any.whl (16 kB)\n",
      "Requirement already satisfied: decorator in /opt/conda/lib/python3.10/site-packages (from ipdb->-r requirements.txt (line 3)) (5.1.1)\n",
      "Requirement already satisfied: six>=1.5 in /opt/conda/lib/python3.10/site-packages (from python-dateutil->-r requirements.txt (line 4)) (1.16.0)\n",
      "Requirement already satisfied: jedi>=0.16 in /opt/conda/lib/python3.10/site-packages (from ipython>=7.17.0->ipdb->-r requirements.txt (line 3)) (0.18.1)\n",
      "Requirement already satisfied: traitlets>=5 in /opt/conda/lib/python3.10/site-packages (from ipython>=7.17.0->ipdb->-r requirements.txt (line 3)) (5.3.0)\n",
      "Requirement already satisfied: pickleshare in /opt/conda/lib/python3.10/site-packages (from ipython>=7.17.0->ipdb->-r requirements.txt (line 3)) (0.7.5)\n",
      "Requirement already satisfied: backcall in /opt/conda/lib/python3.10/site-packages (from ipython>=7.17.0->ipdb->-r requirements.txt (line 3)) (0.2.0)\n",
      "Requirement already satisfied: pygments>=2.4.0 in /opt/conda/lib/python3.10/site-packages (from ipython>=7.17.0->ipdb->-r requirements.txt (line 3)) (2.13.0)\n",
      "Requirement already satisfied: stack-data in /opt/conda/lib/python3.10/site-packages (from ipython>=7.17.0->ipdb->-r requirements.txt (line 3)) (0.4.0)\n",
      "Requirement already satisfied: matplotlib-inline in /opt/conda/lib/python3.10/site-packages (from ipython>=7.17.0->ipdb->-r requirements.txt (line 3)) (0.1.6)\n",
      "Requirement already satisfied: pexpect>4.3 in /opt/conda/lib/python3.10/site-packages (from ipython>=7.17.0->ipdb->-r requirements.txt (line 3)) (4.8.0)\n",
      "Requirement already satisfied: prompt-toolkit!=3.0.0,!=3.0.1,<3.1.0,>=2.0.0 in /opt/conda/lib/python3.10/site-packages (from ipython>=7.17.0->ipdb->-r requirements.txt (line 3)) (3.0.30)\n",
      "Requirement already satisfied: pyparsing!=3.0.5,>=2.0.2 in /opt/conda/lib/python3.10/site-packages (from packaging->pytest->-r requirements.txt (line 1)) (3.0.9)\n",
      "Requirement already satisfied: parso<0.9.0,>=0.8.0 in /opt/conda/lib/python3.10/site-packages (from jedi>=0.16->ipython>=7.17.0->ipdb->-r requirements.txt (line 3)) (0.8.3)\n",
      "Requirement already satisfied: ptyprocess>=0.5 in /opt/conda/lib/python3.10/site-packages (from pexpect>4.3->ipython>=7.17.0->ipdb->-r requirements.txt (line 3)) (0.7.0)\n",
      "Requirement already satisfied: wcwidth in /opt/conda/lib/python3.10/site-packages (from prompt-toolkit!=3.0.0,!=3.0.1,<3.1.0,>=2.0.0->ipython>=7.17.0->ipdb->-r requirements.txt (line 3)) (0.2.5)\n",
      "Requirement already satisfied: executing in /opt/conda/lib/python3.10/site-packages (from stack-data->ipython>=7.17.0->ipdb->-r requirements.txt (line 3)) (0.10.0)\n",
      "Requirement already satisfied: pure-eval in /opt/conda/lib/python3.10/site-packages (from stack-data->ipython>=7.17.0->ipdb->-r requirements.txt (line 3)) (0.2.2)\n",
      "Requirement already satisfied: asttokens in /opt/conda/lib/python3.10/site-packages (from stack-data->ipython>=7.17.0->ipdb->-r requirements.txt (line 3)) (2.0.8)\n",
      "Building wheels for collected packages: ipdb\n",
      "  Building wheel for ipdb (setup.py) ... \u001b[?25ldone\n",
      "\u001b[?25h  Created wheel for ipdb: filename=ipdb-0.13.9-py3-none-any.whl size=11628 sha256=c6dd89ff914e7cd6136698d0a27a7f8d7d683f9e934e9cb979893725092bc452\n",
      "  Stored in directory: /home/jovyan/.cache/pip/wheels/54/02/23/574616a4405110c3a9ccf58c81a7bdea1145360f54adb240a5\n",
      "Successfully built ipdb\n",
      "Installing collected packages: iniconfig, tomli, toml, py, pluggy, coverage, pytest, freezegun, pytest-cov, ipdb\n",
      "Successfully installed coverage-6.4.4 freezegun-1.2.2 iniconfig-1.1.1 ipdb-0.13.9 pluggy-1.0.0 py-1.11.0 pytest-7.1.2 pytest-cov-3.0.0 toml-0.10.2 tomli-2.0.1\n"
     ]
    }
   ],
   "source": [
    "!pip install -r requirements.txt"
   ]
  },
  {
   "cell_type": "code",
   "execution_count": 14,
   "id": "7d7627b9-a359-4c2a-a0f1-5383117afe46",
   "metadata": {},
   "outputs": [],
   "source": [
    "from main import create_exchange\n",
    "from lp import Factory\n",
    "\n",
    "fabrica = Factory(\"Fábrica de piscinas de liquidez\", \"0x1\")\n",
    "piscinal_de_liquidez = create_exchange(name=\"test-coin\", address=\"0x111\", symbol=\"TST1\", _factory=fabrica)"
   ]
  },
  {
   "cell_type": "code",
   "execution_count": 15,
   "id": "136e3067-681a-4559-acf2-fe2050cb0276",
   "metadata": {},
   "outputs": [
    {
     "name": "stdout",
     "output_type": "stream",
     "text": [
      "Exchange test-coin/ETH (TST1)\n",
      "Moedas: test-coin/ETH\n",
      "Reservas: test-coin = 0 | ETH = 0\n",
      "Invariante: 0 * 0 = 0\n",
      "\n",
      "Funcionalidades disponíveis:\n",
      "- Adicionar liquidez\n",
      "- Remover liquidez\n",
      "- Trocar tokens\n",
      "\n"
     ]
    }
   ],
   "source": [
    "piscinal_de_liquidez.info()\n",
    "piscinal_de_liquidez.doc()"
   ]
  },
  {
   "cell_type": "code",
   "execution_count": 16,
   "id": "be9a419e-fa09-4e1b-8937-88f3e55666b8",
   "metadata": {},
   "outputs": [
    {
     "name": "stdout",
     "output_type": "stream",
     "text": [
      "Exchange test-coin/ETH (TST1)\n",
      "Moedas: test-coin/ETH\n",
      "Reservas: test-coin = 50000 | ETH = 50000\n",
      "Invariante: 50000 * 50000 = 2500000000\n",
      "\n"
     ]
    }
   ],
   "source": [
    "eth_amount = 50000\n",
    "tst_amount = 50000\n",
    "piscinal_de_liquidez.add_liquidity(\n",
    "    _from=\"rsarai\",\n",
    "    balance0=eth_amount,\n",
    "    balance1=tst_amount,\n",
    "    balance0Min=eth_amount,\n",
    "    balance1Min=tst_amount\n",
    ")\n",
    "piscinal_de_liquidez.info()"
   ]
  },
  {
   "cell_type": "code",
   "execution_count": 17,
   "id": "ca67f9c2-b089-43ba-a302-6bfb24635f22",
   "metadata": {},
   "outputs": [
    {
     "name": "stdout",
     "output_type": "stream",
     "text": [
      "50 test-coin recebe 49.95 ETH\n",
      "90 test-coin recebe 89.84 ETH\n",
      "300 test-coin recebe 298.21 ETH\n",
      "1000 test-coin recebe 980.39 ETH\n",
      "50000 test-coin recebe 25000.0 ETH\n"
     ]
    }
   ],
   "source": [
    "piscinal_de_liquidez.simulate_transaction(amount_t0=50)\n",
    "piscinal_de_liquidez.simulate_transaction(amount_t0=90)\n",
    "piscinal_de_liquidez.simulate_transaction(amount_t0=300)\n",
    "piscinal_de_liquidez.simulate_transaction(amount_t0=1000)\n",
    "piscinal_de_liquidez.simulate_transaction(amount_t0=50000)"
   ]
  },
  {
   "cell_type": "code",
   "execution_count": 18,
   "id": "0dbcef7b-ba12-4f3d-965e-dd0e09808dd3",
   "metadata": {},
   "outputs": [
    {
     "ename": "AssertionError",
     "evalue": "UniswapV2Router: INSUFFICIENT_OUTPUT_AMOUNT",
     "output_type": "error",
     "traceback": [
      "\u001b[0;31m---------------------------------------------------------------------------\u001b[0m",
      "\u001b[0;31mAssertionError\u001b[0m                            Traceback (most recent call last)",
      "Input \u001b[0;32mIn [18]\u001b[0m, in \u001b[0;36m<cell line: 1>\u001b[0;34m()\u001b[0m\n\u001b[0;32m----> 1\u001b[0m \u001b[43mpiscinal_de_liquidez\u001b[49m\u001b[38;5;241;43m.\u001b[39;49m\u001b[43mswapExactTokensForTokens\u001b[49m\u001b[43m(\u001b[49m\u001b[43mamount0_in\u001b[49m\u001b[38;5;241;43m=\u001b[39;49m\u001b[38;5;241;43m50\u001b[39;49m\u001b[43m,\u001b[49m\u001b[43m \u001b[49m\u001b[43mamount1_out_min\u001b[49m\u001b[38;5;241;43m=\u001b[39;49m\u001b[38;5;241;43m375\u001b[39;49m\u001b[43m,\u001b[49m\u001b[43m \u001b[49m\u001b[43mto\u001b[49m\u001b[38;5;241;43m=\u001b[39;49m\u001b[38;5;124;43m\"\u001b[39;49m\u001b[38;5;124;43mrsarai\u001b[39;49m\u001b[38;5;124;43m\"\u001b[39;49m\u001b[43m)\u001b[49m\n",
      "File \u001b[0;32m~/work/lp.py:160\u001b[0m, in \u001b[0;36mExchange.swapExactTokensForTokens\u001b[0;34m(self, amount0_in, amount1_out_min, to)\u001b[0m\n\u001b[1;32m    158\u001b[0m \u001b[38;5;28;01mdef\u001b[39;00m \u001b[38;5;21mswapExactTokensForTokens\u001b[39m(\u001b[38;5;28mself\u001b[39m, amount0_in, amount1_out_min, to):\n\u001b[1;32m    159\u001b[0m     amount1_out_expected \u001b[38;5;241m=\u001b[39m \u001b[38;5;28mself\u001b[39m\u001b[38;5;241m.\u001b[39mget_amount_out(amount0_in)\n\u001b[0;32m--> 160\u001b[0m     \u001b[38;5;28;01massert\u001b[39;00m amount1_out_expected \u001b[38;5;241m>\u001b[39m\u001b[38;5;241m=\u001b[39m amount1_out_min, \u001b[38;5;124m'\u001b[39m\u001b[38;5;124mUniswapV2Router: INSUFFICIENT_OUTPUT_AMOUNT\u001b[39m\u001b[38;5;124m'\u001b[39m\n\u001b[1;32m    162\u001b[0m     tokens \u001b[38;5;241m=\u001b[39m \u001b[38;5;28mself\u001b[39m\u001b[38;5;241m.\u001b[39mfactory\u001b[38;5;241m.\u001b[39mexchange_to_tokens[\u001b[38;5;28mself\u001b[39m\u001b[38;5;241m.\u001b[39mname]\n\u001b[1;32m    163\u001b[0m     tokens\u001b[38;5;241m.\u001b[39mget(\u001b[38;5;28mself\u001b[39m\u001b[38;5;241m.\u001b[39mtoken0)\u001b[38;5;241m.\u001b[39mdeposit(to, amount0_in)\n",
      "\u001b[0;31mAssertionError\u001b[0m: UniswapV2Router: INSUFFICIENT_OUTPUT_AMOUNT"
     ]
    }
   ],
   "source": [
    "piscinal_de_liquidez.swapExactTokensForTokens(amount0_in=50, amount1_out_min=375, to=\"rsarai\")"
   ]
  },
  {
   "cell_type": "code",
   "execution_count": 19,
   "id": "7ce0d685-bd4b-489b-bdcf-42a25b051089",
   "metadata": {},
   "outputs": [
    {
     "ename": "AssertionError",
     "evalue": "UniswapV2Router: INSUFFICIENT_OUTPUT_AMOUNT",
     "output_type": "error",
     "traceback": [
      "\u001b[0;31m---------------------------------------------------------------------------\u001b[0m",
      "\u001b[0;31mAssertionError\u001b[0m                            Traceback (most recent call last)",
      "Input \u001b[0;32mIn [19]\u001b[0m, in \u001b[0;36m<cell line: 1>\u001b[0;34m()\u001b[0m\n\u001b[0;32m----> 1\u001b[0m \u001b[43mpiscinal_de_liquidez\u001b[49m\u001b[38;5;241;43m.\u001b[39;49m\u001b[43mswapExactTokensForTokens\u001b[49m\u001b[43m(\u001b[49m\u001b[43mamount0_in\u001b[49m\u001b[38;5;241;43m=\u001b[39;49m\u001b[38;5;241;43m50\u001b[39;49m\u001b[43m,\u001b[49m\u001b[43m \u001b[49m\u001b[43mamount1_out_min\u001b[49m\u001b[38;5;241;43m=\u001b[39;49m\u001b[38;5;241;43m50\u001b[39;49m\u001b[43m,\u001b[49m\u001b[43m \u001b[49m\u001b[43mto\u001b[49m\u001b[38;5;241;43m=\u001b[39;49m\u001b[38;5;124;43m\"\u001b[39;49m\u001b[38;5;124;43mrsarai\u001b[39;49m\u001b[38;5;124;43m\"\u001b[39;49m\u001b[43m)\u001b[49m\n",
      "File \u001b[0;32m~/work/lp.py:160\u001b[0m, in \u001b[0;36mExchange.swapExactTokensForTokens\u001b[0;34m(self, amount0_in, amount1_out_min, to)\u001b[0m\n\u001b[1;32m    158\u001b[0m \u001b[38;5;28;01mdef\u001b[39;00m \u001b[38;5;21mswapExactTokensForTokens\u001b[39m(\u001b[38;5;28mself\u001b[39m, amount0_in, amount1_out_min, to):\n\u001b[1;32m    159\u001b[0m     amount1_out_expected \u001b[38;5;241m=\u001b[39m \u001b[38;5;28mself\u001b[39m\u001b[38;5;241m.\u001b[39mget_amount_out(amount0_in)\n\u001b[0;32m--> 160\u001b[0m     \u001b[38;5;28;01massert\u001b[39;00m amount1_out_expected \u001b[38;5;241m>\u001b[39m\u001b[38;5;241m=\u001b[39m amount1_out_min, \u001b[38;5;124m'\u001b[39m\u001b[38;5;124mUniswapV2Router: INSUFFICIENT_OUTPUT_AMOUNT\u001b[39m\u001b[38;5;124m'\u001b[39m\n\u001b[1;32m    162\u001b[0m     tokens \u001b[38;5;241m=\u001b[39m \u001b[38;5;28mself\u001b[39m\u001b[38;5;241m.\u001b[39mfactory\u001b[38;5;241m.\u001b[39mexchange_to_tokens[\u001b[38;5;28mself\u001b[39m\u001b[38;5;241m.\u001b[39mname]\n\u001b[1;32m    163\u001b[0m     tokens\u001b[38;5;241m.\u001b[39mget(\u001b[38;5;28mself\u001b[39m\u001b[38;5;241m.\u001b[39mtoken0)\u001b[38;5;241m.\u001b[39mdeposit(to, amount0_in)\n",
      "\u001b[0;31mAssertionError\u001b[0m: UniswapV2Router: INSUFFICIENT_OUTPUT_AMOUNT"
     ]
    }
   ],
   "source": [
    "piscinal_de_liquidez.swapExactTokensForTokens(amount0_in=50, amount1_out_min=50, to=\"rsarai\")"
   ]
  },
  {
   "cell_type": "code",
   "execution_count": 20,
   "id": "8689ece2-9b34-4614-a141-8149a814d2e6",
   "metadata": {},
   "outputs": [
    {
     "name": "stdout",
     "output_type": "stream",
     "text": [
      "49.95004995004995 \n",
      "\n",
      "Exchange test-coin/ETH (TST1)\n",
      "Moedas: test-coin/ETH\n",
      "Reservas: test-coin = 50050 | ETH = 49950.04995004995\n",
      "Invariante: 50050 * 49950.04995004995 = 2500000000.0\n",
      "\n"
     ]
    }
   ],
   "source": [
    "print(piscinal_de_liquidez.swapExactTokensForTokens(amount0_in=50, amount1_out_min=49, to=\"rsarai\"), '\\n')\n",
    "piscinal_de_liquidez.info()"
   ]
  },
  {
   "cell_type": "code",
   "execution_count": 21,
   "id": "ac1836f7-19a4-4fe7-8177-0704b7466284",
   "metadata": {},
   "outputs": [
    {
     "name": "stdout",
     "output_type": "stream",
     "text": [
      "400 test-coin recebe 396.04 ETH\n",
      "396.03607492606506\n",
      "Exchange test-coin/ETH (TST1)\n",
      "Moedas: test-coin/ETH\n",
      "Reservas: test-coin = 50450 | ETH = 49554.013875123885\n",
      "Invariante: 50450 * 49554.013875123885 = 2500000000.0\n",
      "\n"
     ]
    }
   ],
   "source": [
    "piscinal_de_liquidez.simulate_transaction(amount_t0=400)    # 396.04 ETH\n",
    "print(piscinal_de_liquidez.swapExactTokensForTokens(amount0_in=400, amount1_out_min=396, to=\"rsarai\"))\n",
    "piscinal_de_liquidez.info()"
   ]
  },
  {
   "cell_type": "code",
   "execution_count": 22,
   "id": "b761639b-dc98-429c-911f-b30bfe6944c1",
   "metadata": {},
   "outputs": [
    {
     "name": "stdout",
     "output_type": "stream",
     "text": [
      "400 test-coin recebe 389.81 ETH\n",
      "389.8054188800305\n",
      "Exchange test-coin/ETH (TST1)\n",
      "Moedas: test-coin/ETH\n",
      "Reservas: test-coin = 50850 | ETH = 49164.208456243854\n",
      "Invariante: 50850 * 49164.208456243854 = 2500000000.0\n",
      "\n"
     ]
    }
   ],
   "source": [
    "piscinal_de_liquidez.simulate_transaction(amount_t0=400)    # 389.81 ETH\n",
    "print(piscinal_de_liquidez.swapExactTokensForTokens(amount0_in=400, amount1_out_min=389, to=\"rsarai\"))\n",
    "piscinal_de_liquidez.info()"
   ]
  },
  {
   "cell_type": "markdown",
   "id": "97be7f6e-e10f-4ac2-960b-4a84056d17d7",
   "metadata": {},
   "source": [
    "# Important code to check\n",
    "- get_amount_out\n",
    "- ERC20"
   ]
  },
  {
   "cell_type": "code",
   "execution_count": null,
   "id": "bae1eda2-a5ab-4559-9488-09c8dbacda21",
   "metadata": {},
   "outputs": [],
   "source": []
  }
 ],
 "metadata": {
  "kernelspec": {
   "display_name": "Python 3 (ipykernel)",
   "language": "python",
   "name": "python3"
  },
  "language_info": {
   "codemirror_mode": {
    "name": "ipython",
    "version": 3
   },
   "file_extension": ".py",
   "mimetype": "text/x-python",
   "name": "python",
   "nbconvert_exporter": "python",
   "pygments_lexer": "ipython3",
   "version": "3.10.5"
  }
 },
 "nbformat": 4,
 "nbformat_minor": 5
}
