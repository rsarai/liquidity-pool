{
 "cells": [
  {
   "cell_type": "code",
   "execution_count": 6,
   "id": "ffdf62aa-eddf-45e0-b35a-586037594275",
   "metadata": {},
   "outputs": [
    {
     "name": "stdout",
     "output_type": "stream",
     "text": [
      "Collecting pytest\n",
      "  Downloading pytest-7.1.2-py3-none-any.whl (297 kB)\n",
      "\u001b[2K     \u001b[90m━━━━━━━━━━━━━━━━━━━━━━━━━━━━━━━━━━━━━━━\u001b[0m \u001b[32m297.0/297.0 kB\u001b[0m \u001b[31m3.7 MB/s\u001b[0m eta \u001b[36m0:00:00\u001b[0m00:01\u001b[0m00:01\u001b[0m\n",
      "\u001b[?25hCollecting pytest-cov\n",
      "  Downloading pytest_cov-3.0.0-py3-none-any.whl (20 kB)\n",
      "Collecting ipdb\n",
      "  Downloading ipdb-0.13.9.tar.gz (16 kB)\n",
      "  Preparing metadata (setup.py) ... \u001b[?25ldone\n",
      "\u001b[?25hRequirement already satisfied: python-dateutil in /opt/conda/lib/python3.10/site-packages (from -r requirements.txt (line 4)) (2.8.2)\n",
      "Collecting freezegun\n",
      "  Downloading freezegun-1.2.2-py3-none-any.whl (17 kB)\n",
      "Collecting py>=1.8.2\n",
      "  Downloading py-1.11.0-py2.py3-none-any.whl (98 kB)\n",
      "\u001b[2K     \u001b[90m━━━━━━━━━━━━━━━━━━━━━━━━━━━━━━━━━━━━━━━━\u001b[0m \u001b[32m98.7/98.7 kB\u001b[0m \u001b[31m8.0 MB/s\u001b[0m eta \u001b[36m0:00:00\u001b[0m\n",
      "\u001b[?25hCollecting tomli>=1.0.0\n",
      "  Downloading tomli-2.0.1-py3-none-any.whl (12 kB)\n",
      "Requirement already satisfied: attrs>=19.2.0 in /opt/conda/lib/python3.10/site-packages (from pytest->-r requirements.txt (line 1)) (22.1.0)\n",
      "Requirement already satisfied: packaging in /opt/conda/lib/python3.10/site-packages (from pytest->-r requirements.txt (line 1)) (21.3)\n",
      "Collecting iniconfig\n",
      "  Downloading iniconfig-1.1.1-py2.py3-none-any.whl (5.0 kB)\n",
      "Collecting pluggy<2.0,>=0.12\n",
      "  Downloading pluggy-1.0.0-py2.py3-none-any.whl (13 kB)\n",
      "Collecting coverage[toml]>=5.2.1\n",
      "  Downloading coverage-6.4.4-cp310-cp310-manylinux_2_5_x86_64.manylinux1_x86_64.manylinux_2_17_x86_64.manylinux2014_x86_64.whl (212 kB)\n",
      "\u001b[2K     \u001b[90m━━━━━━━━━━━━━━━━━━━━━━━━━━━━━━━━━━━━━━━\u001b[0m \u001b[32m212.5/212.5 kB\u001b[0m \u001b[31m2.5 MB/s\u001b[0m eta \u001b[36m0:00:00\u001b[0ma \u001b[36m0:00:01\u001b[0m\n",
      "\u001b[?25hRequirement already satisfied: setuptools in /opt/conda/lib/python3.10/site-packages (from ipdb->-r requirements.txt (line 3)) (65.1.0)\n",
      "Requirement already satisfied: ipython>=7.17.0 in /opt/conda/lib/python3.10/site-packages (from ipdb->-r requirements.txt (line 3)) (8.4.0)\n",
      "Collecting toml>=0.10.2\n",
      "  Downloading toml-0.10.2-py2.py3-none-any.whl (16 kB)\n",
      "Requirement already satisfied: decorator in /opt/conda/lib/python3.10/site-packages (from ipdb->-r requirements.txt (line 3)) (5.1.1)\n",
      "Requirement already satisfied: six>=1.5 in /opt/conda/lib/python3.10/site-packages (from python-dateutil->-r requirements.txt (line 4)) (1.16.0)\n",
      "Requirement already satisfied: pickleshare in /opt/conda/lib/python3.10/site-packages (from ipython>=7.17.0->ipdb->-r requirements.txt (line 3)) (0.7.5)\n",
      "Requirement already satisfied: pygments>=2.4.0 in /opt/conda/lib/python3.10/site-packages (from ipython>=7.17.0->ipdb->-r requirements.txt (line 3)) (2.13.0)\n",
      "Requirement already satisfied: matplotlib-inline in /opt/conda/lib/python3.10/site-packages (from ipython>=7.17.0->ipdb->-r requirements.txt (line 3)) (0.1.6)\n",
      "Requirement already satisfied: stack-data in /opt/conda/lib/python3.10/site-packages (from ipython>=7.17.0->ipdb->-r requirements.txt (line 3)) (0.4.0)\n",
      "Requirement already satisfied: traitlets>=5 in /opt/conda/lib/python3.10/site-packages (from ipython>=7.17.0->ipdb->-r requirements.txt (line 3)) (5.3.0)\n",
      "Requirement already satisfied: jedi>=0.16 in /opt/conda/lib/python3.10/site-packages (from ipython>=7.17.0->ipdb->-r requirements.txt (line 3)) (0.18.1)\n",
      "Requirement already satisfied: pexpect>4.3 in /opt/conda/lib/python3.10/site-packages (from ipython>=7.17.0->ipdb->-r requirements.txt (line 3)) (4.8.0)\n",
      "Requirement already satisfied: backcall in /opt/conda/lib/python3.10/site-packages (from ipython>=7.17.0->ipdb->-r requirements.txt (line 3)) (0.2.0)\n",
      "Requirement already satisfied: prompt-toolkit!=3.0.0,!=3.0.1,<3.1.0,>=2.0.0 in /opt/conda/lib/python3.10/site-packages (from ipython>=7.17.0->ipdb->-r requirements.txt (line 3)) (3.0.30)\n",
      "Requirement already satisfied: pyparsing!=3.0.5,>=2.0.2 in /opt/conda/lib/python3.10/site-packages (from packaging->pytest->-r requirements.txt (line 1)) (3.0.9)\n",
      "Requirement already satisfied: parso<0.9.0,>=0.8.0 in /opt/conda/lib/python3.10/site-packages (from jedi>=0.16->ipython>=7.17.0->ipdb->-r requirements.txt (line 3)) (0.8.3)\n",
      "Requirement already satisfied: ptyprocess>=0.5 in /opt/conda/lib/python3.10/site-packages (from pexpect>4.3->ipython>=7.17.0->ipdb->-r requirements.txt (line 3)) (0.7.0)\n",
      "Requirement already satisfied: wcwidth in /opt/conda/lib/python3.10/site-packages (from prompt-toolkit!=3.0.0,!=3.0.1,<3.1.0,>=2.0.0->ipython>=7.17.0->ipdb->-r requirements.txt (line 3)) (0.2.5)\n",
      "Requirement already satisfied: executing in /opt/conda/lib/python3.10/site-packages (from stack-data->ipython>=7.17.0->ipdb->-r requirements.txt (line 3)) (0.10.0)\n",
      "Requirement already satisfied: asttokens in /opt/conda/lib/python3.10/site-packages (from stack-data->ipython>=7.17.0->ipdb->-r requirements.txt (line 3)) (2.0.8)\n",
      "Requirement already satisfied: pure-eval in /opt/conda/lib/python3.10/site-packages (from stack-data->ipython>=7.17.0->ipdb->-r requirements.txt (line 3)) (0.2.2)\n",
      "Building wheels for collected packages: ipdb\n",
      "  Building wheel for ipdb (setup.py) ... \u001b[?25ldone\n",
      "\u001b[?25h  Created wheel for ipdb: filename=ipdb-0.13.9-py3-none-any.whl size=11628 sha256=9af653c28629ec266d5ca45a942b4f411c045641bbad93790c81f4b4bded9887\n",
      "  Stored in directory: /home/jovyan/.cache/pip/wheels/54/02/23/574616a4405110c3a9ccf58c81a7bdea1145360f54adb240a5\n",
      "Successfully built ipdb\n",
      "Installing collected packages: iniconfig, tomli, toml, py, pluggy, coverage, pytest, freezegun, pytest-cov, ipdb\n",
      "Successfully installed coverage-6.4.4 freezegun-1.2.2 iniconfig-1.1.1 ipdb-0.13.9 pluggy-1.0.0 py-1.11.0 pytest-7.1.2 pytest-cov-3.0.0 toml-0.10.2 tomli-2.0.1\n"
     ]
    }
   ],
   "source": [
    "!pip install -r requirements.txt"
   ]
  },
  {
   "cell_type": "code",
   "execution_count": 8,
   "id": "f733a014-9869-42e6-9aae-ab229291c929",
   "metadata": {},
   "outputs": [],
   "source": [
    "import time\n",
    "import pytest\n",
    "from freezegun import freeze_time\n",
    "\n",
    "from main import create_exchange, create_staking_rewards\n",
    "from lp import Factory"
   ]
  },
  {
   "cell_type": "markdown",
   "id": "8dc71490-901a-4652-9b4b-d967192238b1",
   "metadata": {},
   "source": [
    "# Piscinas de liquidez (liquidity pool)\n",
    "\n",
    "- Based on Uniswap v1 contracts\n",
    "- Uniswap is made up of a series of ETH-ERC20 exchange contracts. There is exactly one exchange contract per ERC20 token. If a token does not yet have an exchange it can be created by anyone using the Uniswap factory contract. The factory serves as a public registry and is used to look up all token and exchange addresses added to the system.\n",
    "- Each exchange holds reserves of both ETH and its associated ERC20 token. Anyone can become a liquidity provider on an exchange and contribute to its reserves. This is different than buying or selling; it requires depositing an equivalent value of both ETH and the relevant ERC20 token.\n",
    "- Liquidity is pooled across all providers and an internal \"pool token\" (ERC20) is used to track each providers relative contribution. Pool tokens are minted when liquidity is deposited into the system and can be burned at any time to withdraw a proportional share of the reserves.\n",
    "- Exchange contracts are automated market makers between an ETH-ERC20 pair. Traders can swap between the two in either direction by adding to the liquidity reserve of one and withdrawing from the reserve of the other.\n",
    "- Uniswap uses a \"constant product\" market making formula which sets the exchange rate based off of the relative size of the ETH and ERC20 reserves, and the amount with which an incoming trade shifts this ratio.\n",
    "- A small liquidity provider fee (0.30%) is taken out of each trade and added to the reserves.\n",
    "- This functions as a payout to liquidity providers that is collected when they burn their pool tokens to withdraw their portion of total reserves.\n",
    "\n",
    "\n",
    "## Referências\n",
    "- https://docs.uniswap.org/protocol/V1/reference/interfaces\n",
    "- https://docs.uniswap.org/protocol/V1/introduction\n",
    "- https://hackmd.io/@HaydenAdams/HJ9jLsfTz?type=view#%F0%9F%A6%84-Uniswap-Whitepaper\n",
    "- https://github.com/Uniswap/v1-contracts/blob/c10c08d81d6114f694baa8bd32f555a40f6264da/contracts/uniswap_exchange.vy\n",
    "- https://github.dev/Uniswap/v2-core/blob/master/contracts/UniswapV2Factory.sol\n",
    "- https://github.dev/Uniswap/v2-periphery/blob/master/contracts/UniswapV2Router02.sol\n",
    "- https://docs.uniswap.org/protocol/V1/guides/pool-liquidity\n",
    "- https://docs.uniswap.org/protocol/V2/concepts/core-concepts/pools\n",
    "- https://uniswap.org/whitepaper.pdf\n",
    "- https://betterprogramming.pub/uniswap-smart-contract-breakdown-ea20edf1a0ff\n",
    "- https://coinsbench.com/erc20-smart-contract-breakdown-9dab65cec671\n",
    "- https://betterprogramming.pub/uniswap-smart-contract-breakdown-part-2-b9ea2fca65d1\n",
    "- https://medium.com/scalar-capital/uniswap-a-unique-exchange-f4ef44f807bf\n",
    "- https://ethereum.org/pt-br/developers/tutorials/uniswap-v2-annotated-code/\n",
    "- https://ethereum.org/en/developers/tutorials/uniswap-v2-annotated-code/#add-liquidity-flow\n",
    "- https://jeiwan.net/posts/programming-defi-uniswapv2-1/\n",
    "- https://docs.uniswap.org/protocol/V2/concepts/protocol-overview/ecosystem-participants"
   ]
  },
  {
   "cell_type": "code",
   "execution_count": 12,
   "id": "7d7627b9-a359-4c2a-a0f1-5383117afe46",
   "metadata": {},
   "outputs": [],
   "source": [
    "fabrica = Factory(\"Fábrica de piscinas de liquidez\", \"0x1\")\n",
    "piscinal_de_liquidez = create_exchange(name=\"test-coin\", address=\"0x111\", symbol=\"TST1\", _factory=fabrica)"
   ]
  },
  {
   "cell_type": "code",
   "execution_count": 13,
   "id": "136e3067-681a-4559-acf2-fe2050cb0276",
   "metadata": {},
   "outputs": [
    {
     "name": "stdout",
     "output_type": "stream",
     "text": [
      "Exchange test-coin/ETH (TST1)\n",
      "Moedas: test-coin/ETH\n",
      "Reservas: test-coin = 0 | ETH = 0\n",
      "Invariante: 0 * 0 = 0\n",
      "\n",
      "Funcionalidades disponíveis:\n",
      "- Adicionar liquidez\n",
      "- Remover liquidez\n",
      "- Trocar tokens\n",
      "\n"
     ]
    }
   ],
   "source": [
    "piscinal_de_liquidez.info()\n",
    "piscinal_de_liquidez.doc()"
   ]
  },
  {
   "cell_type": "code",
   "execution_count": 14,
   "id": "be9a419e-fa09-4e1b-8937-88f3e55666b8",
   "metadata": {},
   "outputs": [
    {
     "name": "stdout",
     "output_type": "stream",
     "text": [
      "Exchange test-coin/ETH (TST1)\n",
      "Moedas: test-coin/ETH\n",
      "Reservas: test-coin = 50000 | ETH = 50000\n",
      "Invariante: 50000 * 50000 = 2500000000\n",
      "\n"
     ]
    }
   ],
   "source": [
    "eth_amount = 50000\n",
    "tst_amount = 50000\n",
    "piscinal_de_liquidez.add_liquidity(\n",
    "    _from=\"rsarai\",\n",
    "    balance0=eth_amount,\n",
    "    balance1=tst_amount,\n",
    "    balance0Min=eth_amount,\n",
    "    balance1Min=tst_amount\n",
    ")\n",
    "piscinal_de_liquidez.info()"
   ]
  },
  {
   "cell_type": "code",
   "execution_count": 15,
   "id": "ca67f9c2-b089-43ba-a302-6bfb24635f22",
   "metadata": {},
   "outputs": [
    {
     "name": "stdout",
     "output_type": "stream",
     "text": [
      "50 test-coin recebe 49.95 ETH\n",
      "90 test-coin recebe 89.84 ETH\n",
      "300 test-coin recebe 298.21 ETH\n",
      "1000 test-coin recebe 980.39 ETH\n",
      "50000 test-coin recebe 25000.0 ETH\n"
     ]
    }
   ],
   "source": [
    "piscinal_de_liquidez.simulate_transaction(amount_t0=50)\n",
    "piscinal_de_liquidez.simulate_transaction(amount_t0=90)\n",
    "piscinal_de_liquidez.simulate_transaction(amount_t0=300)\n",
    "piscinal_de_liquidez.simulate_transaction(amount_t0=1000)\n",
    "piscinal_de_liquidez.simulate_transaction(amount_t0=50000)"
   ]
  },
  {
   "cell_type": "code",
   "execution_count": 17,
   "id": "0dbcef7b-ba12-4f3d-965e-dd0e09808dd3",
   "metadata": {},
   "outputs": [],
   "source": [
    "with pytest.raises(Exception, match=\"UniswapV2Router: INSUFFICIENT_OUTPUT_AMOUNT\"):\n",
    "    piscinal_de_liquidez.swapExactTokensForTokens(amount0_in=50, amount1_out_min=375, to=\"rsarai\")"
   ]
  },
  {
   "cell_type": "code",
   "execution_count": 18,
   "id": "7ce0d685-bd4b-489b-bdcf-42a25b051089",
   "metadata": {},
   "outputs": [],
   "source": [
    "with pytest.raises(Exception, match=\"UniswapV2Router: INSUFFICIENT_OUTPUT_AMOUNT\"):\n",
    "    piscinal_de_liquidez.swapExactTokensForTokens(amount0_in=50, amount1_out_min=50, to=\"rsarai\")"
   ]
  },
  {
   "cell_type": "code",
   "execution_count": 20,
   "id": "8689ece2-9b34-4614-a141-8149a814d2e6",
   "metadata": {},
   "outputs": [
    {
     "name": "stdout",
     "output_type": "stream",
     "text": [
      "49.95004995004995 \n",
      "\n",
      "Exchange test-coin/ETH (TST1)\n",
      "Moedas: test-coin/ETH\n",
      "Reservas: test-coin = 50050 | ETH = 49950.04995004995\n",
      "Invariante: 50050 * 49950.04995004995 = 2500000000.0\n",
      "\n"
     ]
    }
   ],
   "source": [
    "print(piscinal_de_liquidez.swapExactTokensForTokens(amount0_in=50, amount1_out_min=49, to=\"rsarai\"), '\\n')\n",
    "piscinal_de_liquidez.info()"
   ]
  },
  {
   "cell_type": "code",
   "execution_count": 21,
   "id": "ac1836f7-19a4-4fe7-8177-0704b7466284",
   "metadata": {},
   "outputs": [
    {
     "name": "stdout",
     "output_type": "stream",
     "text": [
      "400 test-coin recebe 396.04 ETH\n",
      "396.03607492606506\n",
      "Exchange test-coin/ETH (TST1)\n",
      "Moedas: test-coin/ETH\n",
      "Reservas: test-coin = 50450 | ETH = 49554.013875123885\n",
      "Invariante: 50450 * 49554.013875123885 = 2500000000.0\n",
      "\n"
     ]
    }
   ],
   "source": [
    "piscinal_de_liquidez.simulate_transaction(amount_t0=400)    # 396.04 ETH\n",
    "print(piscinal_de_liquidez.swapExactTokensForTokens(amount0_in=400, amount1_out_min=396, to=\"rsarai\"))\n",
    "piscinal_de_liquidez.info()"
   ]
  },
  {
   "cell_type": "code",
   "execution_count": 22,
   "id": "b761639b-dc98-429c-911f-b30bfe6944c1",
   "metadata": {},
   "outputs": [
    {
     "name": "stdout",
     "output_type": "stream",
     "text": [
      "400 test-coin recebe 389.81 ETH\n",
      "389.8054188800305\n",
      "Exchange test-coin/ETH (TST1)\n",
      "Moedas: test-coin/ETH\n",
      "Reservas: test-coin = 50850 | ETH = 49164.208456243854\n",
      "Invariante: 50850 * 49164.208456243854 = 2500000000.0\n",
      "\n"
     ]
    }
   ],
   "source": [
    "piscinal_de_liquidez.simulate_transaction(amount_t0=400)    # 389.81 ETH\n",
    "print(piscinal_de_liquidez.swapExactTokensForTokens(amount0_in=400, amount1_out_min=389, to=\"rsarai\"))\n",
    "piscinal_de_liquidez.info()"
   ]
  },
  {
   "cell_type": "markdown",
   "id": "97be7f6e-e10f-4ac2-960b-4a84056d17d7",
   "metadata": {},
   "source": [
    "## Important code to check\n",
    "- lp.py#\\_\\_init\\_\\_\n",
    "- lp.py#get_amount_out\n",
    "- lp.py#ERC20"
   ]
  },
  {
   "cell_type": "markdown",
   "id": "dc6a8b28-a237-4a0c-9681-08687e4b9252",
   "metadata": {},
   "source": [
    "# Mineração de liquidez (liquidity mining)\n",
    "- This functionality is enabled by the StakingRewards contract"
   ]
  },
  {
   "cell_type": "code",
   "execution_count": 59,
   "id": "d9925498-2fce-430d-9979-9b64890c8c63",
   "metadata": {},
   "outputs": [
    {
     "data": {
      "text/plain": [
       "(50000, 50000)"
      ]
     },
     "execution_count": 59,
     "metadata": {},
     "output_type": "execute_result"
    }
   ],
   "source": [
    "# Setup same as before\n",
    "factory = Factory(\"ETH pool factory\", \"0x2\")\n",
    "lp = create_exchange(\"LM\", \"0x112\", \"LM2\", factory)\n",
    "\n",
    "eth_amount = 50000\n",
    "tst_amount = 50000\n",
    "lp.add_liquidity(\"rsarai\", eth_amount, tst_amount, eth_amount, tst_amount)"
   ]
  },
  {
   "cell_type": "code",
   "execution_count": 60,
   "id": "195b60e2-7d86-4c1b-950d-f1162876073d",
   "metadata": {},
   "outputs": [
    {
     "name": "stdout",
     "output_type": "stream",
     "text": [
      "Funcionalidades disponíveis: \n",
      "- [public] Stake\n",
      "- [public] Withdraw\n",
      "- [public] Get rewards\n",
      "- [private] Add rewards\n"
     ]
    }
   ],
   "source": [
    "# creates staking rewards\n",
    "with freeze_time('2022-08-20 14:49:07'):\n",
    "    st = create_staking_rewards(lp, 1_000_000)\n",
    "    st.doc()"
   ]
  },
  {
   "cell_type": "code",
   "execution_count": 61,
   "id": "3800aaa6-0497-42b9-b085-62020b8ab77b",
   "metadata": {},
   "outputs": [
    {
     "name": "stdout",
     "output_type": "stream",
     "text": [
      "Balanças:  {'deployer': 0}\n",
      "Reward rate:  0.031709791983764585\n",
      "Total staked:  0\n",
      "Última atualização:  1661006947.0\n"
     ]
    }
   ],
   "source": [
    "st.info()"
   ]
  },
  {
   "cell_type": "code",
   "execution_count": 62,
   "id": "b8e3a579-3eda-42d2-9b7d-377237cb1876",
   "metadata": {},
   "outputs": [],
   "source": [
    "with pytest.raises(Exception, match=\"Not enough provided liquidity\"):\n",
    "    st.stake(\"random\", 1000)"
   ]
  },
  {
   "cell_type": "code",
   "execution_count": 63,
   "id": "9716ff72-fa0d-47c6-a702-2d4645d7730d",
   "metadata": {},
   "outputs": [
    {
     "name": "stdout",
     "output_type": "stream",
     "text": [
      "Balanças:  {'deployer': 0, 'rsarai': 49990.0}\n",
      "Reward rate:  0.031709791983764585\n",
      "Total staked:  49990.0\n",
      "Última atualização:  1661006947.0\n"
     ]
    }
   ],
   "source": [
    "with freeze_time('2022-08-20 14:49:07'):\n",
    "    st.stake(\"rsarai\", 49990.0)\n",
    "    st.info()"
   ]
  },
  {
   "cell_type": "code",
   "execution_count": 64,
   "id": "ae5d52c8-f9ec-462c-a9f7-6c479b3393f0",
   "metadata": {},
   "outputs": [
    {
     "name": "stdout",
     "output_type": "stream",
     "text": [
      "Balanças:  {'deployer': 0, 'rsarai': 49990.0}\n",
      "Reward rate:  0.031709791983764585\n",
      "Total staked:  49990.0\n",
      "Última atualização:  1661006947.0\n"
     ]
    }
   ],
   "source": [
    "st.info()"
   ]
  },
  {
   "cell_type": "code",
   "execution_count": 65,
   "id": "e9f6cdbf-87fa-40b1-b8a7-22c07eb19a63",
   "metadata": {},
   "outputs": [
    {
     "name": "stdout",
     "output_type": "stream",
     "text": [
      "Quantidade de recompensas em 5s 0.159\n"
     ]
    }
   ],
   "source": [
    "with freeze_time('2022-08-20 14:49:12'):\n",
    "    print(\"Quantidade de recompensas em 5s\", round(st.earned(\"rsarai\"), 3))"
   ]
  },
  {
   "cell_type": "code",
   "execution_count": 66,
   "id": "6dc5b7d7-08cb-49ba-97f2-acb1e73dfa1b",
   "metadata": {},
   "outputs": [
    {
     "name": "stdout",
     "output_type": "stream",
     "text": [
      "Quantidade de recompensas em 10s 0.317\n"
     ]
    }
   ],
   "source": [
    "with freeze_time('2022-08-20 14:49:17'):\n",
    "    print(\"Quantidade de recompensas em 10s\", round(st.earned(\"rsarai\"), 3))"
   ]
  },
  {
   "cell_type": "code",
   "execution_count": 67,
   "id": "c10f5006-2522-4d0c-ae5b-e2c8e55f9a00",
   "metadata": {},
   "outputs": [
    {
     "name": "stdout",
     "output_type": "stream",
     "text": [
      "Quantidade de recompensas em 1 ano 1000000.0\n"
     ]
    }
   ],
   "source": [
    "with freeze_time('2023-08-20 14:49:12'):\n",
    "    print(\"Quantidade de recompensas em 1 ano\", st.earned(\"rsarai\"))"
   ]
  },
  {
   "cell_type": "code",
   "execution_count": 68,
   "id": "c7df03c4-40ba-40ce-810d-692e17b4a7a1",
   "metadata": {},
   "outputs": [
    {
     "data": {
      "text/plain": [
       "(50000, 50000.0)"
      ]
     },
     "execution_count": 68,
     "metadata": {},
     "output_type": "execute_result"
    }
   ],
   "source": [
    "# Setup same as before\n",
    "factory = Factory(\"ETH pool factory\", \"0x2\")\n",
    "lp = create_exchange(\"LM\", \"0x112\", \"LM2\", factory)\n",
    "\n",
    "eth_amount = 50000\n",
    "tst_amount = 50000\n",
    "lp.add_liquidity(\"rsarai\", eth_amount, tst_amount, eth_amount, tst_amount)\n",
    "\n",
    "eth_amount = 50000\n",
    "tst_amount = 50000\n",
    "lp.add_liquidity(\"garrincha\", eth_amount, tst_amount, eth_amount, tst_amount)"
   ]
  },
  {
   "cell_type": "code",
   "execution_count": 69,
   "id": "6ebf9e26-0b7f-4e37-af28-3bc8add3f4c4",
   "metadata": {},
   "outputs": [],
   "source": [
    "with freeze_time('2022-08-20 14:49:07'):\n",
    "    st = create_staking_rewards(lp, 1_000_000)\n",
    "    st.stake(\"rsarai\", 49990.0)\n",
    "\n",
    "with freeze_time('2022-08-20 14:49:12'):\n",
    "    st.stake(\"garrincha\", 25000.0)"
   ]
  },
  {
   "cell_type": "code",
   "execution_count": 70,
   "id": "9c5d3640-b3ea-43ac-9ae6-4d8b287f78ce",
   "metadata": {},
   "outputs": [
    {
     "name": "stdout",
     "output_type": "stream",
     "text": [
      "Balanças:  {'deployer': 0, 'rsarai': 49990.0, 'garrincha': 25000.0}\n",
      "Reward rate:  0.031709791983764585\n",
      "Total staked:  74990.0\n",
      "Última atualização:  1661006952.0\n"
     ]
    }
   ],
   "source": [
    "st.info()"
   ]
  },
  {
   "cell_type": "code",
   "execution_count": 71,
   "id": "ad6e6586-3b3e-4a47-80fd-e48ae7fa45be",
   "metadata": {},
   "outputs": [
    {
     "name": "stdout",
     "output_type": "stream",
     "text": [
      "Quantidade de recompensas em 10s 0.2113845181048662\n",
      "Quantidade de recompensas em 10s 0.10571340173277965\n"
     ]
    }
   ],
   "source": [
    "with freeze_time('2022-08-20 14:49:17'):\n",
    "    print(\"Quantidade de recompensas em 10s\", st.earned(\"rsarai\"))\n",
    "    print(\"Quantidade de recompensas em 10s\", st.earned(\"garrincha\"))"
   ]
  },
  {
   "cell_type": "markdown",
   "id": "c2761bf0-b639-462e-8442-123be884637c",
   "metadata": {},
   "source": [
    "## Important code to check\n",
    "- staking_rewards.py#\\_\\_init\\_\\_\n",
    "- staking_rewards.py#earned"
   ]
  },
  {
   "cell_type": "code",
   "execution_count": null,
   "id": "4d6ccc64-934d-413a-bbfa-575dc423ae06",
   "metadata": {},
   "outputs": [],
   "source": []
  }
 ],
 "metadata": {
  "kernelspec": {
   "display_name": "Python 3 (ipykernel)",
   "language": "python",
   "name": "python3"
  },
  "language_info": {
   "codemirror_mode": {
    "name": "ipython",
    "version": 3
   },
   "file_extension": ".py",
   "mimetype": "text/x-python",
   "name": "python",
   "nbconvert_exporter": "python",
   "pygments_lexer": "ipython3",
   "version": "3.10.5"
  }
 },
 "nbformat": 4,
 "nbformat_minor": 5
}
